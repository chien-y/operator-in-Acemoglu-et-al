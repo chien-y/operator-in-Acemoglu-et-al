{
 "cells": [
  {
   "cell_type": "code",
   "execution_count": 2,
   "metadata": {},
   "outputs": [],
   "source": [
    "import numpy as np"
   ]
  },
  {
   "cell_type": "code",
   "execution_count": 3,
   "metadata": {},
   "outputs": [],
   "source": [
    "def least_largest_fixed_points(P, e, pbar, tol=1e-5, verbose=False):\n",
    "    \"\"\"Calculate the least and the largest fixed points.\"\"\"\n",
    "    P, e, pbar = np.array(P), np.array(e), np.array(pbar)\n",
    "    x = np.zeros(len(e))\n",
    "    while 1:\n",
    "        cash_flow = np.maximum(np.dot(x, P) + e, 0)\n",
    "        Tx = np.minimum(cash_flow, pbar)\n",
    "        if verbose:\n",
    "            print(Tx)\n",
    "        if np.max(np.abs(x-Tx)) < tol:\n",
    "            break\n",
    "        x = Tx\n",
    "\n",
    "    print('The least fixed point:   ', Tx)\n",
    "\n",
    "    x = pbar\n",
    "    while 1:\n",
    "        cash_flow = np.maximum(np.dot(x, P) + e, 0)\n",
    "        Tx = np.minimum(cash_flow, pbar)\n",
    "        if verbose:\n",
    "            print(Tx)\n",
    "        if np.max(np.abs(x-Tx)) < tol:\n",
    "            break\n",
    "        x = Tx\n",
    "\n",
    "    print('The largest fixed point: ', Tx)\n",
    "    return None\n",
    "\n",
    "\n",
    "def Pi_matrix(n, ):\n",
    "    \"\"\" a random irreducible Markov kernel, main diagonal is zero\"\"\"\n",
    "    R = np.random.rand(n, n-1)\n",
    "    R = R / np.sum(R, axis=1)[:, None]\n",
    "    Pi = np.zeros((n, n))\n",
    "    for j in range(n):\n",
    "        if j == 0:\n",
    "            Pi[j, 1:] = R[j,:]\n",
    "\n",
    "        elif j == n-1:\n",
    "            Pi[j, :-1] = R[j,:]\n",
    "        else:\n",
    "            Pi[j, 0:j] = R[j, 0:j]\n",
    "            Pi[j, j+1:] = R[j, j:]\n",
    "    return Pi\n",
    "\n",
    "\n",
    "def e_and_Pbar(n, e1=1.5, e2=0.8,):\n",
    "    \"\"\"Random cash flow and liability\"\"\"\n",
    "    e = np.random.rand(n) * e1 - e2\n",
    "    pbar = np.random.rand(n) \n",
    "    return e, pbar"
   ]
  },
  {
   "cell_type": "markdown",
   "metadata": {},
   "source": [
    "## Some cases without strong connectivity"
   ]
  },
  {
   "cell_type": "code",
   "execution_count": 707,
   "metadata": {
    "scrolled": true
   },
   "outputs": [
    {
     "name": "stdout",
     "output_type": "stream",
     "text": [
      "The least fixed point:    [0.1 0.  0.  0.3]\n",
      "The largest fixed point:  [0.1 0.  0.  0.3]\n"
     ]
    }
   ],
   "source": [
    "P = [[0, 1, 0, 0],\n",
    "     [0, 0, 1, 0],\n",
    "     [0, 1, 0, 0],\n",
    "     [0, 0, 1, 0]]\n",
    "\n",
    "e = [0.1, -0.1, -3.5, 0.3]\n",
    "\n",
    "pbar = [2, 2, 2, 2]\n",
    "\n",
    "least_largest_fixed_points(P, e, pbar, verbose=False)"
   ]
  },
  {
   "cell_type": "code",
   "execution_count": 708,
   "metadata": {},
   "outputs": [
    {
     "name": "stdout",
     "output_type": "stream",
     "text": [
      "[0.1 0.  0.  0.3 2. ]\n",
      "[0.1 0.  0.  0.3 2. ]\n",
      "The least fixed point:    [0.1 0.  0.  0.3 2. ]\n",
      "[0.1 2.  0.5 0.3 0. ]\n",
      "[0.1 0.5 0.  0.3 2. ]\n",
      "[0.1 0.  0.  0.3 2. ]\n",
      "[0.1 0.  0.  0.3 2. ]\n",
      "The largest fixed point:  [0.1 0.  0.  0.3 2. ]\n"
     ]
    }
   ],
   "source": [
    "P = [[0, 1, 0, 0, -1],\n",
    "     [0, 0, 1, 0, -1],\n",
    "     [0, 1, 0, 0, -1],\n",
    "     [0, 0, 1, 0, -1],\n",
    "     [0, 0, 0, 0, 0]]\n",
    "\n",
    "e = [0.1, -0.1, -3.5, 0.3, 8]\n",
    "\n",
    "pbar = [2, 2, 2, 2, 2]\n",
    "\n",
    "least_largest_fixed_points(P, e, pbar, verbose=True)"
   ]
  },
  {
   "cell_type": "code",
   "execution_count": 4,
   "metadata": {},
   "outputs": [
    {
     "name": "stdout",
     "output_type": "stream",
     "text": [
      "[0.5 0.  0.2 0. ]\n",
      "[0.5 0.5 0.2 0. ]\n",
      "[1.  0.5 0.2 0. ]\n",
      "[1.  1.  0.2 0. ]\n",
      "[1.5 1.  0.2 0. ]\n",
      "[1.5 1.5 0.2 0. ]\n",
      "[2.  1.5 0.2 0. ]\n",
      "[2.  2.  0.2 0. ]\n",
      "[2.  2.  0.2 0. ]\n",
      "The least fixed point:    [2.  2.  0.2 0. ]\n",
      "[2.  2.  2.  1.5]\n",
      "[2.  2.  1.7 1.5]\n",
      "[2.  2.  1.7 1.2]\n",
      "[2.  2.  1.4 1.2]\n",
      "[2.  2.  1.4 0.9]\n",
      "[2.  2.  1.1 0.9]\n",
      "[2.  2.  1.1 0.6]\n",
      "[2.  2.  0.8 0.6]\n",
      "[2.  2.  0.8 0.3]\n",
      "[2.  2.  0.5 0.3]\n",
      "[2.  2.  0.5 0. ]\n",
      "[2.  2.  0.2 0. ]\n",
      "[2.  2.  0.2 0. ]\n",
      "The largest fixed point:  [2.  2.  0.2 0. ]\n",
      "[0.5 0.  0.2 0.  8. ]\n",
      "[0.5 0.5 0.2 0.  7.3]\n",
      "[1.  0.5 0.2 0.  6.8]\n",
      "[1.  1.  0.2 0.  6.3]\n",
      "[1.5 1.  0.2 0.  5.8]\n",
      "[1.5 1.5 0.2 0.  5.3]\n",
      "[2.  1.5 0.2 0.  4.8]\n",
      "[2.  2.  0.2 0.  4.3]\n",
      "[2.  2.  0.2 0.  3.8]\n",
      "[2.  2.  0.2 0.  3.8]\n",
      "The least fixed point:    [2.  2.  0.2 0.  3.8]\n",
      "[2.  2.  2.  1.5 0. ]\n",
      "[2.  2.  1.7 1.5 0.5]\n",
      "[2.  2.  1.7 1.2 0.8]\n",
      "[2.  2.  1.4 1.2 1.1]\n",
      "[2.  2.  1.4 0.9 1.4]\n",
      "[2.  2.  1.1 0.9 1.7]\n",
      "[2.  2.  1.1 0.6 2. ]\n",
      "[2.  2.  0.8 0.6 2.3]\n",
      "[2.  2.  0.8 0.3 2.6]\n",
      "[2.  2.  0.5 0.3 2.9]\n",
      "[2.  2.  0.5 0.  3.2]\n",
      "[2.  2.  0.2 0.  3.5]\n",
      "[2.  2.  0.2 0.  3.8]\n",
      "[2.  2.  0.2 0.  3.8]\n",
      "The largest fixed point:  [2.  2.  0.2 0.  3.8]\n"
     ]
    }
   ],
   "source": [
    "P = [[0, 1, 0, 0],\n",
    "     [1, 0, 0, 0],\n",
    "     [0, 0, 0, 1],\n",
    "     [0, 0, 1, 0]]\n",
    "\n",
    "e = [0.5, 0, 0.2, -0.5,]\n",
    "\n",
    "pbar = [2, 2, 2, 2]\n",
    "\n",
    "least_largest_fixed_points(P, e, pbar, verbose=True)\n",
    "\n",
    "P = [[0, 1, 0, 0, -1],\n",
    "     [1, 0, 0, 0, -1],\n",
    "     [0, 0, 0, 1, -1],\n",
    "     [0, 0, 1, 0, -1],\n",
    "     [0, 0, 0, 0, 0]]\n",
    "\n",
    "e = [0.5, 0, 0.2, -0.5, 8]\n",
    "\n",
    "pbar = [2, 2, 2, 2, 8]\n",
    "\n",
    "least_largest_fixed_points(P, e, pbar, verbose=True)"
   ]
  },
  {
   "cell_type": "code",
   "execution_count": 445,
   "metadata": {},
   "outputs": [
    {
     "name": "stdout",
     "output_type": "stream",
     "text": [
      "The least fixed point:    [0.  0.5 0.  1.  0.5]\n",
      "The largest fixed point:  [0.  0.5 0.  1.  0.5]\n"
     ]
    }
   ],
   "source": [
    "P = [[0, 1/2, 1/2, 0, 0],\n",
    "     [0, 0, 1, 0, 0],\n",
    "     [0, 0, 0, 0, 0],\n",
    "     [0, 0, 0, 0, 1],\n",
    "     [0, 1, 0, 0, 0]]\n",
    "\n",
    "e = [-1, 0, -0.5, 1, -0.5]\n",
    "\n",
    "pbar = [2, 2, 0, 2, 2]\n",
    "\n",
    "least_largest_fixed_points(P, e, pbar)"
   ]
  },
  {
   "cell_type": "code",
   "execution_count": 446,
   "metadata": {},
   "outputs": [
    {
     "name": "stdout",
     "output_type": "stream",
     "text": [
      "The least fixed point:    [1.  1.  1.  2.  1.5]\n",
      "The largest fixed point:  [1.  1.  1.  2.  1.5]\n"
     ]
    }
   ],
   "source": [
    "P = [[0, 1, 0, 0, 0],\n",
    "     [0, 0, 1, 0, 0],\n",
    "     [0, 0, 0, 1, 0],\n",
    "     [0, 0, 0, 0, 1],\n",
    "     [0, 0, 0, 0, 0]]\n",
    "\n",
    "e = [1, 0, 0, 1, -0.5]\n",
    "\n",
    "\n",
    "pbar = [2, 2, 2, 2, 2]\n",
    "\n",
    "least_largest_fixed_points(P, e, pbar)"
   ]
  },
  {
   "cell_type": "code",
   "execution_count": 154,
   "metadata": {},
   "outputs": [
    {
     "name": "stdout",
     "output_type": "stream",
     "text": [
      "The least fixed point:    [1.  0.8 0.  1.  0. ]\n",
      "The largest fixed point:  [1.  0.8 0.  1.  0. ]\n"
     ]
    }
   ],
   "source": [
    "P = [[0, 1, 0, 0, 0],\n",
    "     [0, 0, 1, 0, 0],\n",
    "     [0, 0, 1, 0, 0],\n",
    "     [0, 0, 0, 0, 1],\n",
    "     [0, 0, 0, 0, 0]]\n",
    "\n",
    "e = [1, -0.2, 0, 1, -0.5]\n",
    "\n",
    "\n",
    "pbar = [2, 2, 0, 2, 0]\n",
    "\n",
    "least_largest_fixed_points(P, e, pbar)"
   ]
  },
  {
   "cell_type": "code",
   "execution_count": 450,
   "metadata": {},
   "outputs": [
    {
     "name": "stdout",
     "output_type": "stream",
     "text": [
      "The least fixed point:    [0.10615706 0.         0.         0.02123139 1.06157099]\n",
      "The largest fixed point:  [0.10615718 0.         0.         0.02123147 1.06157133]\n"
     ]
    }
   ],
   "source": [
    "P = [[0, 0, 0.2, 0.2, 0.5],\n",
    "     [0, 0, 0.3, 0.1, 0.4],\n",
    "     [0, 0, 0, 0.3, 0.1],\n",
    "     [0, 0, 0, 0, 0.4],\n",
    "     [0.1, 0, 0, 0, 0]]\n",
    "\n",
    "e = [0, -0.001, 0, 0, 1]\n",
    "\n",
    "\n",
    "pbar = [2, 2, 0, 2, 2]\n",
    "\n",
    "least_largest_fixed_points(P, e, pbar, tol=1e-6)"
   ]
  },
  {
   "cell_type": "markdown",
   "metadata": {},
   "source": [
    "### Test the other operator "
   ]
  },
  {
   "cell_type": "code",
   "execution_count": 662,
   "metadata": {},
   "outputs": [
    {
     "name": "stdout",
     "output_type": "stream",
     "text": [
      "The least fixed point:    [0.         0.         0.04944557 0.545116   0.        ]\n",
      "The largest fixed point:  [0.         0.         0.04944557 0.545116   0.        ]\n",
      "The least fixed point:    [0.         0.         0.04944557 0.545116   0.         1.47522928]\n",
      "The largest fixed point:  [0.         0.         0.04944557 0.545116   0.         1.47522928]\n"
     ]
    }
   ],
   "source": [
    "n = 5\n",
    "P = Pi_matrix(n)\n",
    "pbar = np.random.rand(n) \n",
    "e = np.random.rand(n) * 1.5 - 0.5\n",
    "\n",
    "least_largest_fixed_points(P, e, pbar)\n",
    "\n",
    "P = np.concatenate((P, (-1) * np.ones((n, 1))), axis=1)\n",
    "P = np.concatenate((P, np.zeros((1, n+1))), axis = 0)\n",
    "e = np.concatenate((e, [np.sum(pbar)]))\n",
    "pbar = np.concatenate((pbar, [np.sum(pbar)]))\n",
    "\n",
    "least_largest_fixed_points(P, e, pbar)"
   ]
  },
  {
   "cell_type": "code",
   "execution_count": null,
   "metadata": {},
   "outputs": [],
   "source": []
  },
  {
   "cell_type": "code",
   "execution_count": null,
   "metadata": {},
   "outputs": [],
   "source": []
  }
 ],
 "metadata": {
  "kernelspec": {
   "display_name": "Python 3",
   "language": "python",
   "name": "python3"
  },
  "language_info": {
   "codemirror_mode": {
    "name": "ipython",
    "version": 3
   },
   "file_extension": ".py",
   "mimetype": "text/x-python",
   "name": "python",
   "nbconvert_exporter": "python",
   "pygments_lexer": "ipython3",
   "version": "3.8.3"
  }
 },
 "nbformat": 4,
 "nbformat_minor": 4
}
